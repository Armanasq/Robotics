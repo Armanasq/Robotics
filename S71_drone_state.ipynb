{
 "cells": [
  {
   "cell_type": "markdown",
   "metadata": {
    "colab_type": "text",
    "id": "view-in-github"
   },
   "source": [
    "<a href=\"https://colab.research.google.com/github/gtbook/robotics/blob/main/S71_drone_state.ipynb\" target=\"_parent\"><img src=\"https://colab.research.google.com/assets/colab-badge.svg\" alt=\"Open In Colab\"/></a>"
   ]
  },
  {
   "cell_type": "code",
   "execution_count": 1,
   "metadata": {
    "id": "JoW4C_OkOMhe",
    "tags": [
     "remove-cell"
    ]
   },
   "outputs": [],
   "source": [
    "%pip install -q -U gtbook"
   ]
  },
  {
   "cell_type": "code",
   "execution_count": 1,
   "metadata": {
    "id": "10-snNDwOSuC",
    "tags": [
     "remove-cell"
    ]
   },
   "outputs": [],
   "source": [
    "import numpy as np\n",
    "import plotly.express as px\n",
    "import gtsam "
   ]
  },
  {
   "cell_type": "markdown",
   "metadata": {},
   "source": [
    "# Moving in Three Dimensions\n",
    "\n",
    "> Motion in 3D has 6 DOF."
   ]
  },
  {
   "cell_type": "code",
   "execution_count": 2,
   "metadata": {
    "tags": [
     "remove-input"
    ]
   },
   "outputs": [
    {
     "data": {
      "text/html": [
       "\n",
       "        <div align='center'>\n",
       "        <img src='https://github.com/gtbook/robotics/blob/main/Art/steampunk/S71-Autonomous%20camera%20drone-05.jpg?raw=1' style='height:256 width:100%'/>\n",
       "        </div>\n",
       "        "
      ],
      "text/plain": [
       "<IPython.core.display.HTML object>"
      ]
     },
     "metadata": {},
     "output_type": "display_data"
    }
   ],
   "source": [
    "from gtbook.display import randomImages\n",
    "from IPython.display import display\n",
    "display(randomImages(7, 1, \"steampunk\", 1))"
   ]
  },
  {
   "cell_type": "markdown",
   "metadata": {},
   "source": [
    "In Section 6.1, we introduced $SE(2)$, and showed how matrices can be used to represent both\n",
    "rotation and translation in two dimensions.\n",
    "At that time, we promised that this could be easily generalized to the case of rotation and\n",
    "translation in three dimensions.  In this section, we deliver on that promise, and introduce\n",
    "$SO(3)$ and $SE(3)\n",
    "\n",
    "In addition to representing the pose of an object in 3D, for the case of drones, we are also interested in\n",
    "representing velocity.\n",
    "This includes the both the linear velocity of the drone, which corresponds to the velocity\n",
    "of the origin of the body-attached frame, as well as the rate of change in the orientation of the\n",
    "body-attached frame."
   ]
  },
  {
   "cell_type": "markdown",
   "id": "41fe8146",
   "metadata": {},
   "source": [
    "## Rotations in 3D aka SO(3)\n",
    "\n",
    "In Section 6.1, we constructed the rotation matrix $R^0_1 \\in SO(2)$\n",
    "by projecting the axes of Frame 1 onto Frame 0.\n",
    "The extension to 3D is indeed straightforward.\n",
    "Again, we merely project the axes of Frame 1 onto Frame 0,\n",
    "but in this case, each frame is equpped with aw $z$-axis:\n",
    "\n",
    "$$\n",
    "R_{1}^{0}\n",
    "=\\begin{bmatrix}\n",
    "x_1 \\cdot x_0 & y_1 \\cdot x_0 & z_1 \\cdot x_0 \\\\\n",
    "x_1 \\cdot y_0 & y_1 \\cdot y_0 & z_1 \\cdot y_0 \\\\\n",
    "x_1 \\cdot z_0 & y_1 \\cdot z_0 & z_1 \\cdot z_0 \\\\\n",
    "\\end{bmatrix}\n",
    "$$\n",
    "\n",
    "The expression for rotatoinal coordinate transformations is now exactly the\n",
    "same as in Chapter 6.\n",
    "Given a point $p$ with coordinates expressed relative to the body-attached\n",
    "frame, we compute its coordinates in frame $s$:\n",
    "\n",
    "$$\n",
    "p^s = R^s_b p^b\n",
    "$$\n",
    "\n",
    "Extending the semantics of $SO(2)$ to $SO(3)$,\n",
    "the columns\n",
    "of $R_{b}^{s}$ represent the axes of frame $B$ in the $S$ coordinate\n",
    "frame: $$R_{b}^{s}=\\left[\\begin{array}{ccc}\n",
    "\\hat{x}_{b}^{s} & \\hat{y}_{b}^{s} & \\hat{z}_{b}^{s}\\end{array}\\right]$$\n",
    "\n",
    "The 3D rotations together with composition constitute the **special\n",
    "orthogonal group** $SO(3)$. It is made up of all $3\\times3$ orthonormal\n",
    "matrices with determinant $+1$, with matrix multiplication implementing\n",
    "composition. \n",
    "However, *3D rotations do not commute*, i.e., in general $R_{2}R_{1}\\neq R_{1}R_{2}$.\n",
    "\n",
    "It is often useful to refer to rotations about one of the coordinate axes.\n",
    "These basic rotation matrices are given by\n",
    "\n",
    "$$\n",
    "R_{x,\\psi}\n",
    "=\\begin{bmatrix}\n",
    "1 & 0 & 0 \\\\\n",
    "0 & \\cos \\psi & - \\sin \\psi \\\\\n",
    "0 & \\sin \\psi & \\cos \\psi \n",
    "\\end{bmatrix}\n",
    "~~~\n",
    "R_{y,\\theta}\n",
    "=\\begin{bmatrix}\n",
    "\\cos \\theta &      0   & \\sin \\theta \\\\\n",
    "0            &     1   &  0 \\\\\n",
    "-\\sin \\theta & 0       & \\cos \\theta\n",
    "\\end{bmatrix}\n",
    "~~~\n",
    "R_{z,\\phi}\n",
    "=\\begin{bmatrix}\n",
    "\\cos \\phi &-\\sin \\phi & 0 \\\\\n",
    "\\sin \\phi &\\cos \\phi & 0 \\\\\n",
    "0 & 0   &  1\n",
    "\\end{bmatrix}\n",
    "$$\n",
    "\n",
    "Note, in particular, the form of $R_{z,\\phi}$, the rotation about the $z$-axis.\n",
    "The upper-left $2\\times 2$ block of this matrix is exactly the rotation matrix $R \\in SO(2)$\n",
    "as introduced in Section 6.1.\n",
    "This can be understood by realizing that rotation in the plane is actually\n",
    "a rotation about an implicit $z$- axis that points \"out of the page.\"\n",
    "\n"
   ]
  },
  {
   "cell_type": "markdown",
   "id": "eede1a83",
   "metadata": {},
   "source": [
    "## 3D Rigid transforms aka SE(3)\n",
    "\n",
    "In a similar way, we can immediately extend $SE(2)$ to the case\n",
    "of rotation an translation in 3D.\n",
    "Suppose the point $p$ is rigidly attached to frame $b$, and\n",
    "we wish to determine its coordinates with respect to the reference frame $s$.\n",
    "If the coordinates of $p$ with resepect to frame $b$ are given by $p^b$,\n",
    "then\n",
    "\n",
    "$$\n",
    "p^{s}=R_{b}^{s}p^{b}+t_{b}^{s}\n",
    "$$ \n",
    "\n",
    "in which $R^s_b \\in SO(3)$ is the rotation matrix that specifies the orientation\n",
    "of frame $b$ w.r.t. frame $s$,\n",
    "and  $t^s_b \\in \\mathbb{R}^3$ gives the location of the origin\n",
    "of frame $b$ w.r.t. frame $s$ (specified in the coordinates of frame $s$).\n",
    "\n",
    "\n",
    "We denote this transform by\n",
    "$T_{b}^{s}\\doteq\\left(R_{b}^{s},\\,t_{b}^{s}\\right)$. The **special\n",
    "Euclidean group** $SE(3)$, with the group operation defined similarly as\n",
    "in Equation\n",
    "<a href=\"#eq:composeSE2\" data-reference-type=\"ref\" data-reference=\"eq:composeSE2\">[eq:composeSE2]</a>.\n",
    "Moreover, the group $SE(3)$ is a subgroup of a general linear group\n",
    "$GL(4)$ of degree 4, by embedding the rotation and translation into a\n",
    "$4\\times4$ invertible matrix defined as\n",
    "\n",
    "$$\n",
    "T_{b}^{s}=\\begin{bmatrix}\n",
    "R_{b}^{s} & t_{b}^{s}\\\\\n",
    "0 & 1\n",
    "\\end{bmatrix}\n",
    "\n",
    "$$\n",
    "\n",
    "Again, by embedding 3D points in a four-vector, a\n",
    "3D rigid transform acting on a point can be implemented by matrix-vector\n",
    "multiplication:\n",
    "\n",
    "$$\\begin{bmatrix}\n",
    "R_{b}^{s} & t_{b}^{s}\\\\\n",
    "0 & 1\n",
    "\\end{bmatrix}\n",
    "\\begin{bmatrix}\n",
    "p^{b}\\\\\n",
    "1\n",
    "\\end{bmatrix}\n",
    "=\\begin{bmatrix}\n",
    "R_{b}^{s}p^{b}+t_{b}^{s}\\\\\n",
    "1\n",
    "\\end{bmatrix}\n",
    "\n",
    "$$"
   ]
  },
  {
   "cell_type": "markdown",
   "metadata": {},
   "source": [
    "## Angular Velocity\n",
    "\n",
    "The linear velocity of the origin of a moving frame is easy to understand.\n",
    "This velocity is obtained merely by computing the deriviative of\n",
    "the coordinate vector for the frame's origin.\n",
    "The derivative of orientatino is more interesting.\n",
    "\n",
    "We begin by introducing the family of $3 \\times 3$ **skew symmetric matrices**, denoted by $so(3)$ (the relationship\n",
    "between $so(3)$ and $SO(3)$ will become apparent shortly).\n",
    "A matrix $S$ is said to be skew symmetric if\n",
    "\n",
    "$S + S^T = 0$$\n",
    "\n",
    "If we examine this equation for each element of $S$, we obtain nine\n",
    "equations, \n",
    "\n",
    "$$ s_{i,j} = - s_{j,i}, ~~~~ i,j = 1,2,3 $$\n",
    "\n",
    "When $i=j$, we have $s_{ii} = -s_{ii}$, which is satisfied only if $s_{ii} = 0$.\n",
    "Thus, the diagonal elements of a skew symmetric matrix are all zeros.\n",
    "The remaining equations constrain the off-diagonal entries, such that\n",
    "every $S \\in so(3)$ can be written as\n",
    "\n",
    "$$\n",
    "S = \\hat{s} =\n",
    "\\begin{bmatrix}\n",
    "0 & -s_z &s_y \\\\\n",
    "s_z & 0 & -s_x \\\\\n",
    "-s_y & s_x & 0\n",
    "\\end{bmatrix}\n",
    "$$\n",
    "\n",
    "Note that we define the operator $\\hat{\\cdot}$, which maps a vector $s = (s_x, s_y, s_z)$ to\n",
    "a skew symmetric matrix as above."
   ]
  },
  {
   "cell_type": "markdown",
   "metadata": {},
   "source": [
    "Skew symmetric matrices play a key role in representing the angular rate of change of coordinate frames.\n",
    "Let $R(t)$ be a time-varying rotation matrix.\n",
    "Because $R(t) \\in SO(3)$, for each time $t$ we have $I = R(t) R^T(t)$.\n",
    "If we differentiate both sides of this equations, we obtain\n",
    "\n",
    "$$\n",
    "\\begin{align*}\n",
    "\\frac{d}{dt} I &=  \\frac{d}{dt} \\left( R(t) R^T(t) \\right)   \\\\\n",
    "     0 &= \\dot{R} R^T + R \\dot{R}^T \\\\\n",
    "\\end{align*}\n",
    "$$\n",
    "\n",
    "Now, note that $(\\dot{R} R^T)^T = R \\dot{R}^T $. \n",
    "Thus, the matrix $\\dot{R} R^T$ is a skew symmetric matrix,\n",
    "and we can write\n",
    "\n",
    "$$\\hat{\\omega} = \\dot{R} R^T$$\n",
    "\n",
    "which immediately gives \n",
    "\n",
    "\n",
    "$$\\dot{R} = \\hat{\\omega} R $$\n",
    "\n",
    "The above gives an expression for the derivative of a rotation matrix that\n",
    "will be used below in our formulation of drone dynamics.\n",
    "The vector $\\omega$ is called the **angular velocity**,\n",
    "and it is indeed the same angular velocity that you may have\n",
    "learned in an introductory physics course."
   ]
  }
 ],
 "metadata": {
  "colab": {
   "collapsed_sections": [],
   "include_colab_link": true,
   "name": "S71_drone_state.ipynb",
   "provenance": []
  },
  "interpreter": {
   "hash": "c6e4e9f98eb68ad3b7c296f83d20e6de614cb42e90992a65aa266555a3137d0d"
  },
  "kernelspec": {
   "display_name": "Python 3.9.6 64-bit ('base': conda)",
   "name": "python3"
  },
  "language_info": {
   "codemirror_mode": {
    "name": "ipython",
    "version": 3
   },
   "file_extension": ".py",
   "mimetype": "text/x-python",
   "name": "python",
   "nbconvert_exporter": "python",
   "pygments_lexer": "ipython3",
   "version": "3.8.12"
  },
  "latex_metadata": {
   "affiliation": "Georgia Institute of Technology",
   "author": "Frank Dellaert and Seth Hutchinson",
   "title": "Introduction to Robotics"
  }
 },
 "nbformat": 4,
 "nbformat_minor": 2
}
